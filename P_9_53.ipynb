{
  "nbformat": 4,
  "nbformat_minor": 0,
  "metadata": {
    "colab": {
      "provenance": []
    },
    "kernelspec": {
      "name": "python3",
      "display_name": "Python 3"
    },
    "language_info": {
      "name": "python"
    }
  },
  "cells": [
    {
      "cell_type": "markdown",
      "source": [
        "Implement the in-place heap-sort algorithm. Experimentally compare its\n",
        "running time with that of the standard heap-sort that is not in-place.\n"
      ],
      "metadata": {
        "id": "MazrDfI7Dk6U"
      }
    },
    {
      "cell_type": "code",
      "execution_count": 1,
      "metadata": {
        "colab": {
          "base_uri": "https://localhost:8080/"
        },
        "id": "jrlEgOygDh1v",
        "outputId": "fcb07086-78bd-432b-f859-a87379e72eb8"
      },
      "outputs": [
        {
          "output_type": "stream",
          "name": "stdout",
          "text": [
            "Array size: 1000\n",
            "In-place heap-sort time: 0.00833 seconds\n",
            "Standard heap-sort time: 0.00135 seconds\n",
            "----------------------------------------\n",
            "Array size: 5000\n",
            "In-place heap-sort time: 0.06666 seconds\n",
            "Standard heap-sort time: 0.00502 seconds\n",
            "----------------------------------------\n",
            "Array size: 10000\n",
            "In-place heap-sort time: 0.24883 seconds\n",
            "Standard heap-sort time: 0.02309 seconds\n",
            "----------------------------------------\n"
          ]
        }
      ],
      "source": [
        "import time\n",
        "import heapq\n",
        "import random\n",
        "\n",
        "def heapify(arr, n, i):\n",
        "    \"\"\"Helper function to maintain the max heap property.\"\"\"\n",
        "    largest = i\n",
        "    left = 2 * i + 1\n",
        "    right = 2 * i + 2\n",
        "\n",
        "    if left < n and arr[left] > arr[largest]:\n",
        "        largest = left\n",
        "    if right < n and arr[right] > arr[largest]:\n",
        "        largest = right\n",
        "\n",
        "    if largest != i:\n",
        "        arr[i], arr[largest] = arr[largest], arr[i]\n",
        "        heapify(arr, n, largest)\n",
        "\n",
        "def in_place_heap_sort(arr):\n",
        "    \"\"\"In-place heap-sort algorithm.\"\"\"\n",
        "    n = len(arr)\n",
        "\n",
        "    for i in range(n // 2 - 1, -1, -1):\n",
        "        heapify(arr, n, i)\n",
        "\n",
        "    for i in range(n - 1, 0, -1):\n",
        "        arr[0], arr[i] = arr[i], arr[0]\n",
        "        heapify(arr, i, 0)\n",
        "\n",
        "def standard_heap_sort(arr):\n",
        "    \"\"\"Standard heap-sort using Python's heapq module.\"\"\"\n",
        "    heap = []\n",
        "    for num in arr:\n",
        "        heapq.heappush(heap, num)\n",
        "    return [heapq.heappop(heap) for _ in range(len(heap))]\n",
        "\n",
        "if __name__ == \"__main__\":\n",
        "    sizes = [1000, 5000, 10000]\n",
        "    for size in sizes:\n",
        "        arr = [random.randint(1, 100000) for _ in range(size)]\n",
        "\n",
        "        in_place_arr = arr[:]\n",
        "        start_time = time.time()\n",
        "        in_place_heap_sort(in_place_arr)\n",
        "        in_place_time = time.time() - start_time\n",
        "\n",
        "\n",
        "        standard_arr = arr[:]\n",
        "        start_time = time.time()\n",
        "        sorted_arr = standard_heap_sort(standard_arr)\n",
        "        standard_time = time.time() - start_time\n",
        "\n",
        "        print(f\"Array size: {size}\")\n",
        "        print(f\"In-place heap-sort time: {in_place_time:.5f} seconds\")\n",
        "        print(f\"Standard heap-sort time: {standard_time:.5f} seconds\")\n",
        "        print(\"-\" * 40)"
      ]
    }
  ]
}